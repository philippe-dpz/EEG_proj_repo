{
 "cells": [
  {
   "cell_type": "code",
   "execution_count": 1,
   "metadata": {},
   "outputs": [],
   "source": [
    "\n",
    "import sys, os #, math, time\n",
    "\n",
    "sys.path.insert(0, os.path.dirname(os.getcwd()))\n",
    "\n",
    "from src.thot.sesh import *\n",
    "from src.thot.catch_features import *"
   ]
  },
  {
   "cell_type": "code",
   "execution_count": 2,
   "metadata": {},
   "outputs": [],
   "source": [
    "# Load train and test data into dataframes\n",
    "\n",
    "path              = '../data/data.zip'\n",
    "df_train_original = pickle_in_zip(path, \"epoched_train.pkl\")\n",
    "df_test           = pickle_in_zip(path, \"epoched_test.pkl\")"
   ]
  },
  {
   "cell_type": "code",
   "execution_count": 3,
   "metadata": {},
   "outputs": [],
   "source": [
    "# Create column 'pid' which is the patient ID 1 through 9\n",
    "df_train_original['pid'] = [int(df_train_original['patient_id'][x][2]) for x in range(len(df_train_original))]\n",
    "df_test['pid'] = [int(df_test['patient_id'][x][2]) for x in range(len(df_test))]\n",
    "\n",
    "# Create column 'trial_id' which is the trial 1 through 3\n",
    "df_train_original['trial_id'] = [int(df_train_original['patient_id'][x][-2]) for x in range(len(df_train_original))]\n",
    "df_test['trial_id'] = [int(df_test['patient_id'][x][-2]) for x in range(len(df_test))]"
   ]
  },
  {
   "cell_type": "code",
   "execution_count": 4,
   "metadata": {},
   "outputs": [],
   "source": [
    "# Use trials 1&2 for training, trial 3 for validation (mirrors process to create Kaggle test set)\n",
    "df_train = df_train_original[df_train_original['trial_id']!=3]\n",
    "df_train = df_train.reindex(np.random.permutation(df_train.index)).reset_index(drop=True)\n",
    "\n",
    "df_val = df_train_original[df_train_original['trial_id']==3]\n",
    "df_val = df_val.reindex(np.random.permutation(df_val.index)).reset_index(drop=True)"
   ]
  },
  {
   "cell_type": "code",
   "execution_count": 5,
   "metadata": {},
   "outputs": [],
   "source": [
    "# Prepare data for training across all subjects\n",
    "y_train = df_train[\"event_type\"].values.astype(float)\n",
    "y_val = df_val[\"event_type\"].values.astype(float)\n",
    "\n",
    "X_train = df_train.drop([\"patient_id\", \"start_time\", \"event_type\", \"pid\", \"trial_id\"], axis=1)\n",
    "X_val = df_val.drop([\"patient_id\", \"start_time\", \"event_type\", \"pid\", \"trial_id\"], axis=1)\n",
    "X_test = df_test.drop([\"patient_id\", \"start_time\", \"pid\", \"trial_id\"], axis=1)"
   ]
  },
  {
   "cell_type": "code",
   "execution_count": 75,
   "metadata": {},
   "outputs": [
    {
     "name": "stderr",
     "output_type": "stream",
     "text": [
      "C:\\Users\\b.luron\\AppData\\Local\\Temp\\ipykernel_24732\\4259752977.py:1: FutureWarning: Series.__getitem__ treating keys as positions is deprecated. In a future version, integer keys will always be treated as labels (consistent with DataFrame behavior). To access a value by position, use `ser.iloc[pos]`\n",
      "  x_train_nn  = np.array(list(X_train.apply(lambda x : np.concatenate(x), axis = 1)))\n",
      "C:\\Users\\b.luron\\AppData\\Local\\Temp\\ipykernel_24732\\4259752977.py:2: FutureWarning: Series.__getitem__ treating keys as positions is deprecated. In a future version, integer keys will always be treated as labels (consistent with DataFrame behavior). To access a value by position, use `ser.iloc[pos]`\n",
      "  x_val_nn    = np.array(X_val.apply  (lambda x : np.concatenate(x), axis = 1).values.tolist())\n",
      "C:\\Users\\b.luron\\AppData\\Local\\Temp\\ipykernel_24732\\4259752977.py:3: FutureWarning: Series.__getitem__ treating keys as positions is deprecated. In a future version, integer keys will always be treated as labels (consistent with DataFrame behavior). To access a value by position, use `ser.iloc[pos]`\n",
      "  x_test_nn   = np.array(X_test.apply (lambda x : np.concatenate(x), axis = 1).values.tolist())\n"
     ]
    },
    {
     "data": {
      "text/plain": [
       "array([[  0.67444877,   3.44243534,   5.61837186, ...,  -6.68345159,\n",
       "         -1.22072175,  -6.01205463],\n",
       "       [  3.35088121,   2.04776074,   5.28572519, ..., -10.5897612 ,\n",
       "        -16.38818952,  -4.48615244],\n",
       "       [ -4.27862974,  -3.61028458,  -3.72014954, ..., -56.82459754,\n",
       "        -46.90623331, -51.6365301 ],\n",
       "       ...,\n",
       "       [ -5.38643473,  -4.89814603,  -6.78416114, ...,  -7.04966812,\n",
       "          4.6692607 ,  10.13199054],\n",
       "       [  1.17799649,   2.41092546,   2.76188296, ...,  -3.63164721,\n",
       "         -3.26543069,   2.31937133],\n",
       "       [  5.95712215,   6.67429618,   5.25520714, ...,   8.54505226,\n",
       "          4.76081483,   4.33356222]])"
      ]
     },
     "metadata": {},
     "output_type": "display_data"
    },
    {
     "name": "stdout",
     "output_type": "stream",
     "text": [
      "(2240, 6000)\n"
     ]
    },
    {
     "data": {
      "text/plain": [
       "(2240, 6)"
      ]
     },
     "execution_count": 75,
     "metadata": {},
     "output_type": "execute_result"
    }
   ],
   "source": [
    "x_train_nn  = np.array(list(X_train.apply(lambda x : np.concatenate(x), axis = 1)))\n",
    "x_val_nn    = np.array(X_val.apply  (lambda x : np.concatenate(x), axis = 1).values.tolist())\n",
    "x_test_nn   = np.array(X_test.apply (lambda x : np.concatenate(x), axis = 1).values.tolist())\n",
    "\n",
    "display(x_train_nn)\n",
    "print(x_train_nn.shape)\n",
    "\n",
    "np.shape(np.array([*X_train.values]))\n",
    "\n",
    "# [ for x in ] # X_train.apply(lambda x : np.concatenate(x), axis = 1).values.tolist()\n"
   ]
  },
  {
   "cell_type": "code",
   "execution_count": null,
   "metadata": {},
   "outputs": [],
   "source": [
    "display(df_train_original) # df_train_original['C3'][0].shape[0]\n",
    "display(df_test)\n",
    "\n",
    "np.array(X_train.apply(lambda x:np.concatenate(x), axis=1).values.tolist())"
   ]
  }
 ],
 "metadata": {
  "kernelspec": {
   "display_name": "venv",
   "language": "python",
   "name": "python3"
  },
  "language_info": {
   "codemirror_mode": {
    "name": "ipython",
    "version": 3
   },
   "file_extension": ".py",
   "mimetype": "text/x-python",
   "name": "python",
   "nbconvert_exporter": "python",
   "pygments_lexer": "ipython3",
   "version": "3.12.7"
  }
 },
 "nbformat": 4,
 "nbformat_minor": 2
}
