{
 "cells": [
  {
   "cell_type": "code",
   "execution_count": 11,
   "metadata": {},
   "outputs": [
    {
     "name": "stdout",
     "output_type": "stream",
     "text": [
      "<class 'pandas.core.frame.DataFrame'>\n",
      "RangeIndex: 3680 entries, 0 to 3679\n",
      "Columns: 1004 entries, Unnamed: 0 to C3-C4_11.5_3.0\n",
      "dtypes: float64(1002), int64(2)\n",
      "memory usage: 28.2 MB\n",
      "None\n",
      "<class 'pandas.core.frame.DataFrame'>\n",
      "RangeIndex: 3680 entries, 0 to 3679\n",
      "Data columns (total 2 columns):\n",
      " #   Column      Non-Null Count  Dtype\n",
      "---  ------      --------------  -----\n",
      " 0   Unnamed: 0  3680 non-null   int64\n",
      " 1   eventType   3680 non-null   int64\n",
      "dtypes: int64(2)\n",
      "memory usage: 57.6 KB\n",
      "None\n"
     ]
    }
   ],
   "source": [
    "import pandas as pd\n",
    "import numpy as numpy\n",
    "\n",
    "data_path = \"../assets/sessions/data/\"\n",
    "\n",
    "Xtest = pd.read_csv(data_path + \"XUntrainTest.csv\")\n",
    "print(Xtest.info())\n",
    "\n",
    "Ytest = pd.read_csv(data_path + \"yUntrainTest.csv\")\n",
    "print(Ytest.info())"
   ]
  }
 ],
 "metadata": {
  "kernelspec": {
   "display_name": ".venv",
   "language": "python",
   "name": "python3"
  },
  "language_info": {
   "codemirror_mode": {
    "name": "ipython",
    "version": 3
   },
   "file_extension": ".py",
   "mimetype": "text/x-python",
   "name": "python",
   "nbconvert_exporter": "python",
   "pygments_lexer": "ipython3",
   "version": "3.12.8"
  }
 },
 "nbformat": 4,
 "nbformat_minor": 2
}
